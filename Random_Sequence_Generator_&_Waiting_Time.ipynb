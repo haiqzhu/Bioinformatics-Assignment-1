{
  "nbformat": 4,
  "nbformat_minor": 5,
  "metadata": {
    "kernelspec": {
      "display_name": "Python 3 (ipykernel)",
      "language": "python",
      "name": "python3"
    },
    "language_info": {
      "codemirror_mode": {
        "name": "ipython",
        "version": 3
      },
      "file_extension": ".py",
      "mimetype": "text/x-python",
      "name": "python",
      "nbconvert_exporter": "python",
      "pygments_lexer": "ipython3",
      "version": "3.9.7"
    },
    "colab": {
      "name": "Random Sequence Generator & Waiting Time.ipynb",
      "provenance": []
    }
  },
  "cells": [
    {
      "cell_type": "markdown",
      "metadata": {
        "id": "8112f728"
      },
      "source": [
        "Naive Method of sequence generation"
      ],
      "id": "8112f728"
    },
    {
      "cell_type": "code",
      "metadata": {
        "id": "f87baec6"
      },
      "source": [
        "import random\n",
        "\n",
        "# Generate sequences of length 100\n",
        "a = ['a','t','c','g']\n",
        "sequences = []\n",
        "'''\n",
        "Generate 100 sequences each of length 100\n",
        "'''\n",
        "for i in range(100):\n",
        "    seq = \"\" #Initialize an empty sequence string\n",
        "    for j in range(100):\n",
        "        seq = seq + a[random.randint(0,len(a)-1)] #Adds the randomly selected characters to the sequence string\n",
        "    # Only unique sequences are stored\n",
        "    if seq not in sequences:\n",
        "        sequences.append(seq)"
      ],
      "id": "f87baec6",
      "execution_count": null,
      "outputs": []
    },
    {
      "cell_type": "markdown",
      "metadata": {
        "id": "98f7cf7c"
      },
      "source": [
        "Sample Sequence Generation Problem\n",
        "\n",
        "t[1]= 0.2\n",
        "\n",
        "t[2]= 0.5\n",
        "\n",
        "t[3]= 0.8\n",
        "\n",
        "for i in 1..1000 do\n",
        "\n",
        "  r= rand()\n",
        "\n",
        "  if (r < t[1]) print A\n",
        "\n",
        "  else if (r < t[2]) print C\n",
        "\n",
        "  else if (r < t[3]) print G\n",
        "\n",
        "  else print T\n",
        "\n",
        "done\n",
        "\n",
        "What is the expected output of this code?"
      ],
      "id": "98f7cf7c"
    },
    {
      "cell_type": "code",
      "metadata": {
        "id": "b7972acc"
      },
      "source": [
        "# Generate one sequence of length 1000 that satisfies the above condition\n",
        "seq = \"\"\n",
        "while len(seq)<1001:\n",
        "    r = random.random() # Selects r such that 0<=r<=1\n",
        "    if r<0.2:\n",
        "        seq = seq + 'A'\n",
        "        \n",
        "    elif r<0.5:\n",
        "        seq = seq + 'C'\n",
        "        \n",
        "    elif r<0.8:\n",
        "        seq = seq + 'G'\n",
        "        \n",
        "    else:\n",
        "        seq = seq + 'T' "
      ],
      "id": "b7972acc",
      "execution_count": null,
      "outputs": []
    },
    {
      "cell_type": "markdown",
      "metadata": {
        "id": "434a3718"
      },
      "source": [
        "How would you change the code logic to generate 555 sequences of length 221 each, such that the average composition of the sequences is about 25% A, 30% C, 30% G, and 15% T?\n",
        "\n",
        "0 <= r < 0.25 -> A\n",
        "\n",
        "0.25 <= r < 0.55 -> C\n",
        "\n",
        "0.55 <= r < 0.85 -> G\n",
        "\n",
        "0.85 <= r < 1 ->T\n"
      ],
      "id": "434a3718"
    },
    {
      "cell_type": "code",
      "metadata": {
        "id": "07e57878"
      },
      "source": [
        "sequences = []\n",
        "while len(sequences)<555:\n",
        "    seq = \"\"\n",
        "    while len(seq)<221:\n",
        "        r = random.random()\n",
        "        if r>=0 and r<0.25:\n",
        "            seq = seq + 'A'\n",
        "\n",
        "        if r>=0.25 and r<0.55:\n",
        "            seq = seq + 'C'\n",
        "\n",
        "        if r>=0.55 and r<0.85:\n",
        "            seq = seq + 'G'\n",
        "\n",
        "        if r>=0.85 and r<1:\n",
        "            seq = seq + 'T'\n",
        "    sequences.append(seq)"
      ],
      "id": "07e57878",
      "execution_count": null,
      "outputs": []
    },
    {
      "cell_type": "markdown",
      "metadata": {
        "id": "e55c0172"
      },
      "source": [
        "Waiting Time\n",
        "\n",
        "The time it would take until a particular pattern is first encountered in a sequence.\n",
        "\n",
        "By time, we usually mean how long a sequence has to be generated till we see our pattern of interest."
      ],
      "id": "e55c0172"
    },
    {
      "cell_type": "code",
      "metadata": {
        "id": "36a07a5c",
        "outputId": "9fc93abe-7601-45eb-e0bf-9148f63fa944"
      },
      "source": [
        "!pip install numpy"
      ],
      "id": "36a07a5c",
      "execution_count": null,
      "outputs": [
        {
          "name": "stdout",
          "output_type": "stream",
          "text": [
            "Requirement already satisfied: numpy in c:\\users\\vogir\\appdata\\local\\programs\\python\\python39\\lib\\site-packages (1.21.2)\n"
          ]
        }
      ]
    },
    {
      "cell_type": "code",
      "metadata": {
        "colab": {
          "base_uri": "https://localhost:8080/"
        },
        "id": "9cb65c88",
        "outputId": "039eb91c-2bf0-4e2c-9f95-166b92037767"
      },
      "source": [
        "import numpy as np\n",
        "from random import random\n",
        "\n",
        "'''\n",
        "Waiting Time:\n",
        "The time it would take until a particular pattern is first encountered in a sequence.\n",
        "By time, we usually mean how long a sequence has to be generated till we see our pattern of interest.\n",
        "'''\n",
        "def waiting_time(composition, pattern) :\n",
        "\n",
        "    # Sanity check on composition\n",
        "    assert abs( sum(composition.values())-1 ) < 0.01 , 'Probabilities do not add up to 1.'\n",
        "\n",
        "    # Sanity check on pattern\n",
        "    for letter in pattern :\n",
        "        assert letter in composition, 'Pattern involves letters not specified in composition'\n",
        "\n",
        "    pattern_size = len(pattern)\n",
        "    sequence =''\n",
        "\n",
        "    # Main loop\n",
        "    while len(sequence) < pattern_size or sequence[-pattern_size:] != pattern :\n",
        "        ran = random()\n",
        "        p = 0\n",
        "        for letter in probability :\n",
        "            p += probability[letter]\n",
        "            if ran<p:\n",
        "                sequence += letter\n",
        "                break\n",
        "\n",
        "    # Return length of the generated sequence\n",
        "    return len(sequence)\n",
        "\n",
        "# Defining the composition\n",
        "probability = dict()\n",
        "probability['R']=0.5\n",
        "probability['Y']=0.5\n",
        "pattern = \"RR\"\n",
        "\n",
        "# The number of sequence to be genereated. Used to find the average waiting time\n",
        "n = 100\n",
        "\n",
        "# Sample waiting times\n",
        "waiting_times = [ waiting_time(probability, pattern) for i in range(n)]\n",
        "\n",
        "print(\"Number of sequences generated: %d\" % (n))\n",
        "print(\"Average waiting time of %d sequences: %.3f\" % (n,np.mean(waiting_times)),\"For pattern:\",pattern)\n",
        "\n",
        "probability['R']=0.75\n",
        "probability['Y']=0.25\n",
        "pattern = \"RR\"\n",
        "\n",
        "# The number of sequence to be genereated. Used to find the average waiting time\n",
        "n = 100\n",
        "\n",
        "# Sample waiting times\n",
        "waiting_times = [ waiting_time(probability, pattern) for i in range(n)]\n",
        "\n",
        "print(\"Number of sequences generated: %d\" % (n))\n",
        "print(\"Average waiting time of %d sequences: %.3f\" % (n,np.mean(waiting_times)),\"For pattern:\",pattern)\n",
        "\n",
        "probability['R']=0.5\n",
        "probability['Y']=0.5\n",
        "pattern = \"RY\"\n",
        "\n",
        "# The number of sequence to be genereated. Used to find the average waiting time\n",
        "n = 100\n",
        "\n",
        "# Sample waiting times\n",
        "waiting_times = [ waiting_time(probability, pattern) for i in range(n)]\n",
        "\n",
        "print(\"Number of sequences generated: %d\" % (n))\n",
        "print(\"Average waiting time of %d sequences: %.3f\" % (n,np.mean(waiting_times)),\"For pattern:\",pattern)\n",
        "\n",
        "probability['R']=0.25\n",
        "probability['Y']=0.75\n",
        "pattern = \"RY\"\n",
        "\n",
        "# The number of sequence to be genereated. Used to find the average waiting time\n",
        "n = 100\n",
        "\n",
        "# Sample waiting times\n",
        "waiting_times = [ waiting_time(probability, pattern) for i in range(n)]\n",
        "\n",
        "print(\"Number of sequences generated: %d\" % (n))\n",
        "print(\"Average waiting time of %d sequences: %.3f\" % (n,np.mean(waiting_times)),\"For pattern:\",pattern)\n",
        "\n"
      ],
      "id": "9cb65c88",
      "execution_count": 5,
      "outputs": [
        {
          "output_type": "stream",
          "name": "stdout",
          "text": [
            "Number of sequences generated: 100\n",
            "Average waiting time of 100 sequences: 6.520 For pattern: RR\n",
            "Number of sequences generated: 100\n",
            "Average waiting time of 100 sequences: 3.100 For pattern: RR\n",
            "Number of sequences generated: 100\n",
            "Average waiting time of 100 sequences: 3.840 For pattern: RY\n",
            "Number of sequences generated: 100\n",
            "Average waiting time of 100 sequences: 5.480 For pattern: RY\n"
          ]
        }
      ]
    },
    {
      "cell_type": "code",
      "metadata": {
        "id": "ef36dec6"
      },
      "source": [
        ""
      ],
      "id": "ef36dec6",
      "execution_count": null,
      "outputs": []
    }
  ]
}